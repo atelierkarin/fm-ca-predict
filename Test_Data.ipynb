{
  "nbformat": 4,
  "nbformat_minor": 0,
  "metadata": {
    "colab": {
      "name": "Test Data.ipynb",
      "provenance": [],
      "collapsed_sections": [],
      "authorship_tag": "ABX9TyMIHxOVNAYeGUgspxh7aOj6",
      "include_colab_link": true
    },
    "kernelspec": {
      "name": "python3",
      "display_name": "Python 3"
    }
  },
  "cells": [
    {
      "cell_type": "markdown",
      "metadata": {
        "id": "view-in-github",
        "colab_type": "text"
      },
      "source": [
        "<a href=\"https://colab.research.google.com/github/atelierkarin/fm-ca-predict/blob/master/Test_Data.ipynb\" target=\"_parent\"><img src=\"https://colab.research.google.com/assets/colab-badge.svg\" alt=\"Open In Colab\"/></a>"
      ]
    },
    {
      "cell_type": "code",
      "metadata": {
        "id": "D4YlMRpRJzVD",
        "colab_type": "code",
        "colab": {}
      },
      "source": [
        "import pandas as pd\n",
        "import numpy as np\n",
        "import datetime"
      ],
      "execution_count": 0,
      "outputs": []
    },
    {
      "cell_type": "code",
      "metadata": {
        "id": "11dGe-cwJ2bc",
        "colab_type": "code",
        "outputId": "cfa9d9d0-d89f-4db4-ecea-a2d79f7cca25",
        "colab": {
          "base_uri": "https://localhost:8080/",
          "height": 124
        }
      },
      "source": [
        "# Googleドライブをマウント\n",
        "from google.colab import drive\n",
        "drive.mount('/content/drive', force_remount=False)"
      ],
      "execution_count": 0,
      "outputs": [
        {
          "output_type": "stream",
          "text": [
            "Go to this URL in a browser: https://accounts.google.com/o/oauth2/auth?client_id=947318989803-6bn6qk8qdgf4n4g3pfee6491hc0brc4i.apps.googleusercontent.com&redirect_uri=urn%3aietf%3awg%3aoauth%3a2.0%3aoob&response_type=code&scope=email%20https%3a%2f%2fwww.googleapis.com%2fauth%2fdocs.test%20https%3a%2f%2fwww.googleapis.com%2fauth%2fdrive%20https%3a%2f%2fwww.googleapis.com%2fauth%2fdrive.photos.readonly%20https%3a%2f%2fwww.googleapis.com%2fauth%2fpeopleapi.readonly\n",
            "\n",
            "Enter your authorization code:\n",
            "··········\n",
            "Mounted at /content/drive\n"
          ],
          "name": "stdout"
        }
      ]
    },
    {
      "cell_type": "code",
      "metadata": {
        "id": "44rddwCNJ4Dp",
        "colab_type": "code",
        "colab": {}
      },
      "source": [
        "max_date = datetime.datetime.strptime('1970/1/1', '%Y/%m/%d')\n",
        "max_diff = datetime.datetime.today() - max_date\n",
        "\n",
        "def calc_dob_from_now(dob):\n",
        "  diff = datetime.datetime.today() - datetime.datetime.strptime(dob, '%Y/%m/%d')\n",
        "  return diff.total_seconds()\n",
        "\n",
        "def reformat_internal_goals(app, gl):\n",
        "  return gl / app if app > 0 else 0\n",
        "\n",
        "def load_data():\n",
        "  df_club = pd.read_csv('/content/drive/My Drive/datas/fm-ca-status/club.csv')\n",
        "  df_competition = pd.read_csv('/content/drive/My Drive/datas/fm-ca-status/competition.csv')\n",
        "  df_nationality = pd.read_csv('/content/drive/My Drive/datas/fm-ca-status/nationality.csv')\n",
        "  df_test_data = pd.read_csv('/content/drive/My Drive/datas/fm-ca-status/test_data.csv')\n",
        "  df_season = pd.read_csv('/content/drive/My Drive/datas/fm-ca-status/season.csv')\n",
        "\n",
        "  df = df_test_data[:].copy()\n",
        "\n",
        "  df['DOB_FromNow'] = df.apply(lambda row: calc_dob_from_now(row['DOB']), axis=1)\n",
        "  df = df.drop(columns='DOB')\n",
        "\n",
        "  df = pd.merge(df, df_nationality, left_on='Nationality', right_on='Nation Name', how='left').drop(columns='Nation Name').drop(columns='Nationality')\n",
        "  df = pd.merge(df, df_club, left_on='Club', right_on='Club Name', how='left').drop(columns='Club Name').drop(columns='Club')\n",
        "  df = pd.merge(df, df_competition, left_on='League', right_on='Competition Name', how='left').drop(columns='League').drop(columns='Competition Name')\n",
        "\n",
        "  df_ly = df_season[:].copy()\n",
        "  df_l2y = df_season[:].copy()\n",
        "  df_l3y = df_season[:].copy()\n",
        "\n",
        "  df_ly.columns = 'LY ' + df_ly.columns.values\n",
        "  df_l2y.columns = 'L2Y ' + df_l2y.columns.values\n",
        "  df_l3y.columns = 'L3Y ' + df_l3y.columns.values\n",
        "\n",
        "  df_ly_club = df_club[:].copy()\n",
        "  df_l2y_club = df_club[:].copy()\n",
        "  df_l3y_club = df_club[:].copy()\n",
        "  df_ly_competition = df_competition[:].copy()\n",
        "  df_l2y_competition = df_competition[:].copy()\n",
        "  df_l3y_competition = df_competition[:].copy()\n",
        "\n",
        "  df_ly_club.columns = 'LY ' + df_ly_club.columns.values\n",
        "  df_l2y_club.columns = 'L2Y ' + df_l2y_club.columns.values\n",
        "  df_l3y_club.columns = 'L3Y ' + df_l3y_club.columns.values\n",
        "  df_ly_competition.columns = 'LY ' + df_ly_competition.columns.values\n",
        "  df_l2y_competition.columns = 'L2Y ' + df_l2y_competition.columns.values\n",
        "  df_l3y_competition.columns = 'L3Y ' + df_l3y_competition.columns.values\n",
        "\n",
        "  df = pd.merge(df, df_ly, left_on=['LY Year','LY Club','LY League'], right_on=['LY Season','LY Team','LY League'], how='left').drop(columns=['LY Year','LY Season','LY Team'])\n",
        "  df = pd.merge(df, df_ly_club, left_on='LY Club', right_on='LY Club Name', how='left').drop(columns='LY Club Name').drop(columns='LY Club')\n",
        "  df = pd.merge(df, df_ly_competition, left_on='LY League', right_on='LY Competition Name', how='left').drop(columns='LY Competition Name').drop(columns='LY League')\n",
        "\n",
        "  df = pd.merge(df, df_l2y, left_on=['L2Y Year','L2Y Club','L2Y League'], right_on=['L2Y Season','L2Y Team','L2Y League'], how='left').drop(columns=['L2Y Year','L2Y Season','L2Y Team'])\n",
        "  df = pd.merge(df, df_l2y_club, left_on='L2Y Club', right_on='L2Y Club Name', how='left').drop(columns='L2Y Club Name').drop(columns='L2Y Club')\n",
        "  df = pd.merge(df, df_l2y_competition, left_on='L2Y League', right_on='L2Y Competition Name', how='left').drop(columns='L2Y Competition Name').drop(columns='L2Y League')\n",
        "\n",
        "  df = pd.merge(df, df_l3y, left_on=['L3Y Year','L3Y Club','L3Y League'], right_on=['L3Y Season','L3Y Team','L3Y League'], how='left').drop(columns=['L3Y Year','L3Y Season','L3Y Team'])\n",
        "  df = pd.merge(df, df_l3y_club, left_on='L3Y Club', right_on='L3Y Club Name', how='left').drop(columns='L3Y Club Name').drop(columns='L3Y Club')\n",
        "  df = pd.merge(df, df_l3y_competition, left_on='L3Y League', right_on='L3Y Competition Name', how='left').drop(columns='L3Y Competition Name').drop(columns='L3Y League')\n",
        "\n",
        "  df = df.drop(columns=['LY GD','L2Y GD','L3Y GD'])\n",
        "\n",
        "  df['LY App'] = df['LY App'] / df['LY Pld']\n",
        "  df['LY Goal'] = df['LY Goal'] / df['LY Pld']\n",
        "  df['LY W'] = df['LY W'] / df['LY Pld']\n",
        "  df['LY D'] = df['LY D'] / df['LY Pld']\n",
        "  df['LY L'] = df['LY L'] / df['LY Pld']\n",
        "  df['LY GF'] = df['LY GF'] / df['LY Pld']\n",
        "  df['LY GA'] = df['LY GA'] / df['LY Pld']\n",
        "  df['LY Pts'] = df['LY Pts'] / df['LY Pld']\n",
        "\n",
        "  df['L2Y App'] = df['L2Y App'] / df['L2Y Pld']\n",
        "  df['L2Y Goal'] = df['L2Y Goal'] / df['L2Y Pld']\n",
        "  df['L2Y W'] = df['L2Y W'] / df['L2Y Pld']\n",
        "  df['L2Y D'] = df['L2Y D'] / df['L2Y Pld']\n",
        "  df['L2Y L'] = df['L2Y L'] / df['L2Y Pld']\n",
        "  df['L2Y GF'] = df['L2Y GF'] / df['L2Y Pld']\n",
        "  df['L2Y GA'] = df['L2Y GA'] / df['L2Y Pld']\n",
        "  df['L2Y Pts'] = df['L2Y Pts'] / df['L2Y Pld']\n",
        "\n",
        "  df['L3Y App'] = df['L3Y App'] / df['L3Y Pld']\n",
        "  df['L3Y Goal'] = df['L3Y Goal'] / df['L3Y Pld']\n",
        "  df['L3Y W'] = df['L3Y W'] / df['L3Y Pld']\n",
        "  df['L3Y D'] = df['L3Y D'] / df['L3Y Pld']\n",
        "  df['L3Y L'] = df['L3Y L'] / df['L3Y Pld']\n",
        "  df['L3Y GF'] = df['L3Y GF'] / df['L3Y Pld']\n",
        "  df['L3Y GA'] = df['L3Y GA'] / df['L3Y Pld']\n",
        "  df['L3Y Pts'] = df['L3Y Pts'] / df['L3Y Pld']\n",
        "\n",
        "  df['Nation Rep'] = df['Nation Rep'] / 10000\n",
        "  df['Club Rep'] = df['Club Rep'] / 10000\n",
        "  df['Competition Rep'] = df['Competition Rep'] / 200\n",
        "\n",
        "  df['LY Club Rep'] = df['LY Club Rep'] / 10000\n",
        "  df['LY Competition Rep'] = df['LY Competition Rep'] / 200\n",
        "\n",
        "  df['L2Y Club Rep'] = df['L2Y Club Rep'] / 10000\n",
        "  df['L2Y Competition Rep'] = df['L2Y Competition Rep'] / 200\n",
        "\n",
        "  df['L3Y Club Rep'] = df['L3Y Club Rep'] / 10000\n",
        "  df['L3Y Competition Rep'] = df['L3Y Competition Rep'] / 200\n",
        "\n",
        "  df['Inter. Goals'] = df.apply(lambda row: reformat_internal_goals(row['Inter. Apps'], row['Inter. Goals']), axis=1)\n",
        "  df['Inter. Apps'] = df['Inter. Apps'] / 255\n",
        "\n",
        "  df['DOB_FromNow'] = df['DOB_FromNow'] / max_diff.total_seconds()\n",
        "\n",
        "  df = df.drop(columns=['LY Pld','L2Y Pld','L3Y Pld'])\n",
        "  \n",
        "  df = df.set_index('Name')\n",
        "\n",
        "  return df"
      ],
      "execution_count": 0,
      "outputs": []
    },
    {
      "cell_type": "code",
      "metadata": {
        "id": "N-1rmx8zKVWZ",
        "colab_type": "code",
        "colab": {}
      },
      "source": [
        "df_test = load_data()"
      ],
      "execution_count": 0,
      "outputs": []
    },
    {
      "cell_type": "code",
      "metadata": {
        "id": "lYl37tGpKYip",
        "colab_type": "code",
        "outputId": "43fdd1f6-d7ce-4cd5-e5bb-04e690a62bb3",
        "colab": {
          "base_uri": "https://localhost:8080/",
          "height": 72
        }
      },
      "source": [
        "from sklearn.externals import joblib\n",
        "\n",
        "model = joblib.load('/content/drive/My Drive/datas/fm-ca-status/model.joblib')"
      ],
      "execution_count": 0,
      "outputs": [
        {
          "output_type": "stream",
          "text": [
            "/usr/local/lib/python3.6/dist-packages/sklearn/externals/joblib/__init__.py:15: FutureWarning: sklearn.externals.joblib is deprecated in 0.21 and will be removed in 0.23. Please import this functionality directly from joblib, which can be installed with: pip install joblib. If this warning is raised when loading pickled models, you may need to re-serialize those models with scikit-learn 0.21+.\n",
            "  warnings.warn(msg, category=FutureWarning)\n"
          ],
          "name": "stderr"
        }
      ]
    },
    {
      "cell_type": "code",
      "metadata": {
        "id": "pVYfKrzPLo05",
        "colab_type": "code",
        "colab": {}
      },
      "source": [
        "predict_result = model.predict(df_test)"
      ],
      "execution_count": 0,
      "outputs": []
    },
    {
      "cell_type": "code",
      "metadata": {
        "id": "0CELRnbSM9LQ",
        "colab_type": "code",
        "outputId": "5031e05a-0005-497c-b57f-10ad348e90f0",
        "colab": {
          "base_uri": "https://localhost:8080/",
          "height": 260
        }
      },
      "source": [
        "df_test['predict CA'] = predict_result * 200\n",
        "df_test['predict CA']"
      ],
      "execution_count": 0,
      "outputs": [
        {
          "output_type": "execute_result",
          "data": {
            "text/plain": [
              "Name\n",
              "福森晃斗     111.020367\n",
              "深井一希     104.584320\n",
              "宮澤裕樹     115.883023\n",
              "鈴木武蔵     110.645225\n",
              "進藤亮佑     108.399311\n",
              "土居聖真     120.947853\n",
              "伊藤翔      117.850094\n",
              "中村充孝      99.078166\n",
              "中村駿       98.752364\n",
              "大久保嘉人    104.765206\n",
              "平智広       94.322176\n",
              "前山恭平      81.679613\n",
              "Name: predict CA, dtype: float64"
            ]
          },
          "metadata": {
            "tags": []
          },
          "execution_count": 7
        }
      ]
    },
    {
      "cell_type": "code",
      "metadata": {
        "id": "x8ChbgixM_qw",
        "colab_type": "code",
        "colab": {}
      },
      "source": [
        ""
      ],
      "execution_count": 0,
      "outputs": []
    }
  ]
}