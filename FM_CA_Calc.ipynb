{
  "nbformat": 4,
  "nbformat_minor": 0,
  "metadata": {
    "colab": {
      "name": "FM CA Calc.ipynb",
      "provenance": [],
      "collapsed_sections": [],
      "authorship_tag": "ABX9TyOHcQQLNtjyK34FUnO764C6",
      "include_colab_link": true
    },
    "kernelspec": {
      "name": "python3",
      "display_name": "Python 3"
    }
  },
  "cells": [
    {
      "cell_type": "markdown",
      "metadata": {
        "id": "view-in-github",
        "colab_type": "text"
      },
      "source": [
        "<a href=\"https://colab.research.google.com/github/atelierkarin/fm-ca-predict/blob/master/FM_CA_Calc.ipynb\" target=\"_parent\"><img src=\"https://colab.research.google.com/assets/colab-badge.svg\" alt=\"Open In Colab\"/></a>"
      ]
    },
    {
      "cell_type": "code",
      "metadata": {
        "id": "CqW6llqAznO-",
        "colab_type": "code",
        "colab": {}
      },
      "source": [
        "import pandas as pd\n",
        "import numpy as np\n",
        "import datetime"
      ],
      "execution_count": 0,
      "outputs": []
    },
    {
      "cell_type": "code",
      "metadata": {
        "id": "0lKo6Nhq09MI",
        "colab_type": "code",
        "outputId": "fa2f9915-c4ce-4d10-8939-ce919e24e29c",
        "colab": {
          "base_uri": "https://localhost:8080/",
          "height": 124
        }
      },
      "source": [
        "# Googleドライブをマウント\n",
        "from google.colab import drive\n",
        "drive.mount('/content/drive', force_remount=False)"
      ],
      "execution_count": 0,
      "outputs": [
        {
          "output_type": "stream",
          "text": [
            "Go to this URL in a browser: https://accounts.google.com/o/oauth2/auth?client_id=947318989803-6bn6qk8qdgf4n4g3pfee6491hc0brc4i.apps.googleusercontent.com&redirect_uri=urn%3aietf%3awg%3aoauth%3a2.0%3aoob&response_type=code&scope=email%20https%3a%2f%2fwww.googleapis.com%2fauth%2fdocs.test%20https%3a%2f%2fwww.googleapis.com%2fauth%2fdrive%20https%3a%2f%2fwww.googleapis.com%2fauth%2fdrive.photos.readonly%20https%3a%2f%2fwww.googleapis.com%2fauth%2fpeopleapi.readonly\n",
            "\n",
            "Enter your authorization code:\n",
            "··········\n",
            "Mounted at /content/drive\n"
          ],
          "name": "stdout"
        }
      ]
    },
    {
      "cell_type": "code",
      "metadata": {
        "id": "e5feTn3l0-K-",
        "colab_type": "code",
        "colab": {}
      },
      "source": [
        "max_date = datetime.datetime.strptime('1970/1/1', '%Y/%m/%d')\n",
        "max_diff = datetime.datetime.today() - max_date\n",
        "\n",
        "def calc_dob_from_now(dob):\n",
        "  diff = datetime.datetime.today() - datetime.datetime.strptime(dob, '%Y/%m/%d')\n",
        "  return diff.total_seconds()\n",
        "\n",
        "def reformat_internal_goals(app, gl):\n",
        "  return gl / app if app > 0 else 0\n",
        "\n",
        "def load_data():\n",
        "  df_club = pd.read_csv('/content/drive/My Drive/datas/fm-ca-status/club.csv')\n",
        "  df_competition = pd.read_csv('/content/drive/My Drive/datas/fm-ca-status/competition.csv')\n",
        "  df_nationality = pd.read_csv('/content/drive/My Drive/datas/fm-ca-status/nationality.csv')\n",
        "  df_players = pd.read_csv('/content/drive/My Drive/datas/fm-ca-status/players.csv')\n",
        "  df_season = pd.read_csv('/content/drive/My Drive/datas/fm-ca-status/season.csv')\n",
        "\n",
        "  df = df_players[:].copy()\n",
        "\n",
        "  df['DOB_FromNow'] = df.apply(lambda row: calc_dob_from_now(row['DOB']), axis=1)\n",
        "  df = df.drop(columns='DOB')\n",
        "\n",
        "  df = pd.merge(df, df_nationality, left_on='Nationality', right_on='Nation Name', how='left').drop(columns='Nation Name').drop(columns='Nationality')\n",
        "  df = pd.merge(df, df_club, left_on='Club', right_on='Club Name', how='left').drop(columns='Club Name').drop(columns='Club')\n",
        "  df = pd.merge(df, df_competition, left_on='League', right_on='Competition Name', how='left').drop(columns='League').drop(columns='Competition Name')\n",
        "\n",
        "  df_ly = df_season[:].copy()\n",
        "  df_l2y = df_season[:].copy()\n",
        "  df_l3y = df_season[:].copy()\n",
        "\n",
        "  df_ly.columns = 'LY ' + df_ly.columns.values\n",
        "  df_l2y.columns = 'L2Y ' + df_l2y.columns.values\n",
        "  df_l3y.columns = 'L3Y ' + df_l3y.columns.values\n",
        "\n",
        "  df_ly_club = df_club[:].copy()\n",
        "  df_l2y_club = df_club[:].copy()\n",
        "  df_l3y_club = df_club[:].copy()\n",
        "  df_ly_competition = df_competition[:].copy()\n",
        "  df_l2y_competition = df_competition[:].copy()\n",
        "  df_l3y_competition = df_competition[:].copy()\n",
        "\n",
        "  df_ly_club.columns = 'LY ' + df_ly_club.columns.values\n",
        "  df_l2y_club.columns = 'L2Y ' + df_l2y_club.columns.values\n",
        "  df_l3y_club.columns = 'L3Y ' + df_l3y_club.columns.values\n",
        "  df_ly_competition.columns = 'LY ' + df_ly_competition.columns.values\n",
        "  df_l2y_competition.columns = 'L2Y ' + df_l2y_competition.columns.values\n",
        "  df_l3y_competition.columns = 'L3Y ' + df_l3y_competition.columns.values\n",
        "\n",
        "  df = pd.merge(df, df_ly, left_on=['LY Year','LY Club','LY League'], right_on=['LY Season','LY Team','LY League'], how='left').drop(columns=['LY Year','LY Season','LY Team'])\n",
        "  df = pd.merge(df, df_ly_club, left_on='LY Club', right_on='LY Club Name', how='left').drop(columns='LY Club Name').drop(columns='LY Club')\n",
        "  df = pd.merge(df, df_ly_competition, left_on='LY League', right_on='LY Competition Name', how='left').drop(columns='LY Competition Name').drop(columns='LY League')\n",
        "\n",
        "  df = pd.merge(df, df_l2y, left_on=['L2Y Year','L2Y Club','L2Y League'], right_on=['L2Y Season','L2Y Team','L2Y League'], how='left').drop(columns=['L2Y Year','L2Y Season','L2Y Team'])\n",
        "  df = pd.merge(df, df_l2y_club, left_on='L2Y Club', right_on='L2Y Club Name', how='left').drop(columns='L2Y Club Name').drop(columns='L2Y Club')\n",
        "  df = pd.merge(df, df_l2y_competition, left_on='L2Y League', right_on='L2Y Competition Name', how='left').drop(columns='L2Y Competition Name').drop(columns='L2Y League')\n",
        "\n",
        "  df = pd.merge(df, df_l3y, left_on=['L3Y Year','L3Y Club','L3Y League'], right_on=['L3Y Season','L3Y Team','L3Y League'], how='left').drop(columns=['L3Y Year','L3Y Season','L3Y Team'])\n",
        "  df = pd.merge(df, df_l3y_club, left_on='L3Y Club', right_on='L3Y Club Name', how='left').drop(columns='L3Y Club Name').drop(columns='L3Y Club')\n",
        "  df = pd.merge(df, df_l3y_competition, left_on='L3Y League', right_on='L3Y Competition Name', how='left').drop(columns='L3Y Competition Name').drop(columns='L3Y League')\n",
        "\n",
        "  df = df.drop(columns=['LY GD','L2Y GD','L3Y GD'])\n",
        "\n",
        "  df['CA'] = df['CA'] / 200\n",
        "  df['PA'] = df['PA'] / 200\n",
        "\n",
        "  df['LY App'] = df['LY App'] / df['LY Pld']\n",
        "  df['LY Goal'] = df['LY Goal'] / df['LY Pld']\n",
        "  df['LY W'] = df['LY W'] / df['LY Pld']\n",
        "  df['LY D'] = df['LY D'] / df['LY Pld']\n",
        "  df['LY L'] = df['LY L'] / df['LY Pld']\n",
        "  df['LY GF'] = df['LY GF'] / df['LY Pld']\n",
        "  df['LY GA'] = df['LY GA'] / df['LY Pld']\n",
        "  df['LY Pts'] = df['LY Pts'] / df['LY Pld']\n",
        "\n",
        "  df['L2Y App'] = df['L2Y App'] / df['L2Y Pld']\n",
        "  df['L2Y Goal'] = df['L2Y Goal'] / df['L2Y Pld']\n",
        "  df['L2Y W'] = df['L2Y W'] / df['L2Y Pld']\n",
        "  df['L2Y D'] = df['L2Y D'] / df['L2Y Pld']\n",
        "  df['L2Y L'] = df['L2Y L'] / df['L2Y Pld']\n",
        "  df['L2Y GF'] = df['L2Y GF'] / df['L2Y Pld']\n",
        "  df['L2Y GA'] = df['L2Y GA'] / df['L2Y Pld']\n",
        "  df['L2Y Pts'] = df['L2Y Pts'] / df['L2Y Pld']\n",
        "\n",
        "  df['L3Y App'] = df['L3Y App'] / df['L3Y Pld']\n",
        "  df['L3Y Goal'] = df['L3Y Goal'] / df['L3Y Pld']\n",
        "  df['L3Y W'] = df['L3Y W'] / df['L3Y Pld']\n",
        "  df['L3Y D'] = df['L3Y D'] / df['L3Y Pld']\n",
        "  df['L3Y L'] = df['L3Y L'] / df['L3Y Pld']\n",
        "  df['L3Y GF'] = df['L3Y GF'] / df['L3Y Pld']\n",
        "  df['L3Y GA'] = df['L3Y GA'] / df['L3Y Pld']\n",
        "  df['L3Y Pts'] = df['L3Y Pts'] / df['L3Y Pld']\n",
        "\n",
        "  df['Nation Rep'] = df['Nation Rep'] / 10000\n",
        "  df['Club Rep'] = df['Club Rep'] / 10000\n",
        "  df['Competition Rep'] = df['Competition Rep'] / 200\n",
        "\n",
        "  df['LY Club Rep'] = df['LY Club Rep'] / 10000\n",
        "  df['LY Competition Rep'] = df['LY Competition Rep'] / 200\n",
        "\n",
        "  df['L2Y Club Rep'] = df['L2Y Club Rep'] / 10000\n",
        "  df['L2Y Competition Rep'] = df['L2Y Competition Rep'] / 200\n",
        "\n",
        "  df['L3Y Club Rep'] = df['L3Y Club Rep'] / 10000\n",
        "  df['L3Y Competition Rep'] = df['L3Y Competition Rep'] / 200\n",
        "\n",
        "  df['Inter. Goals'] = df.apply(lambda row: reformat_internal_goals(row['Inter. Apps'], row['Inter. Goals']), axis=1)\n",
        "  df['Inter. Apps'] = df['Inter. Apps'] / 255\n",
        "\n",
        "  df['DOB_FromNow'] = df['DOB_FromNow'] / max_diff.total_seconds()\n",
        "\n",
        "  df = df.drop(columns=['LY Pld','L2Y Pld','L3Y Pld'])\n",
        "  \n",
        "  df = df.set_index('Name')\n",
        "\n",
        "  return df\n",
        "\n",
        "def get_X_and_y(df):\n",
        "  X = df[:].copy().drop(columns=['CA','PA'])\n",
        "  y = df['CA'].copy()\n",
        "\n",
        "  return X, y"
      ],
      "execution_count": 0,
      "outputs": []
    },
    {
      "cell_type": "code",
      "metadata": {
        "id": "N3KhG5eX1O7f",
        "colab_type": "code",
        "colab": {}
      },
      "source": [
        "df_data = load_data()"
      ],
      "execution_count": 0,
      "outputs": []
    },
    {
      "cell_type": "code",
      "metadata": {
        "id": "lFxLr74F1ROW",
        "colab_type": "code",
        "outputId": "c9fac718-5b50-4998-83dc-30061084eb4d",
        "colab": {
          "base_uri": "https://localhost:8080/",
          "height": 379
        }
      },
      "source": [
        "df_data.head()"
      ],
      "execution_count": 0,
      "outputs": [
        {
          "output_type": "execute_result",
          "data": {
            "text/html": [
              "<div>\n",
              "<style scoped>\n",
              "    .dataframe tbody tr th:only-of-type {\n",
              "        vertical-align: middle;\n",
              "    }\n",
              "\n",
              "    .dataframe tbody tr th {\n",
              "        vertical-align: top;\n",
              "    }\n",
              "\n",
              "    .dataframe thead th {\n",
              "        text-align: right;\n",
              "    }\n",
              "</style>\n",
              "<table border=\"1\" class=\"dataframe\">\n",
              "  <thead>\n",
              "    <tr style=\"text-align: right;\">\n",
              "      <th></th>\n",
              "      <th>Inter. Apps</th>\n",
              "      <th>Inter. Goals</th>\n",
              "      <th>GK</th>\n",
              "      <th>DF</th>\n",
              "      <th>DM/WB</th>\n",
              "      <th>MF</th>\n",
              "      <th>AMF</th>\n",
              "      <th>FW</th>\n",
              "      <th>LY App</th>\n",
              "      <th>LY Goal</th>\n",
              "      <th>L2Y App</th>\n",
              "      <th>L2Y Goal</th>\n",
              "      <th>L3Y App</th>\n",
              "      <th>L3Y Goal</th>\n",
              "      <th>CA</th>\n",
              "      <th>PA</th>\n",
              "      <th>DOB_FromNow</th>\n",
              "      <th>Nation Rep</th>\n",
              "      <th>Club Rep</th>\n",
              "      <th>Competition Rep</th>\n",
              "      <th>LY W</th>\n",
              "      <th>LY D</th>\n",
              "      <th>LY L</th>\n",
              "      <th>LY GF</th>\n",
              "      <th>LY GA</th>\n",
              "      <th>LY Pts</th>\n",
              "      <th>LY Club Rep</th>\n",
              "      <th>LY Competition Rep</th>\n",
              "      <th>L2Y W</th>\n",
              "      <th>L2Y D</th>\n",
              "      <th>L2Y L</th>\n",
              "      <th>L2Y GF</th>\n",
              "      <th>L2Y GA</th>\n",
              "      <th>L2Y Pts</th>\n",
              "      <th>L2Y Club Rep</th>\n",
              "      <th>L2Y Competition Rep</th>\n",
              "      <th>L3Y W</th>\n",
              "      <th>L3Y D</th>\n",
              "      <th>L3Y L</th>\n",
              "      <th>L3Y GF</th>\n",
              "      <th>L3Y GA</th>\n",
              "      <th>L3Y Pts</th>\n",
              "      <th>L3Y Club Rep</th>\n",
              "      <th>L3Y Competition Rep</th>\n",
              "    </tr>\n",
              "    <tr>\n",
              "      <th>Name</th>\n",
              "      <th></th>\n",
              "      <th></th>\n",
              "      <th></th>\n",
              "      <th></th>\n",
              "      <th></th>\n",
              "      <th></th>\n",
              "      <th></th>\n",
              "      <th></th>\n",
              "      <th></th>\n",
              "      <th></th>\n",
              "      <th></th>\n",
              "      <th></th>\n",
              "      <th></th>\n",
              "      <th></th>\n",
              "      <th></th>\n",
              "      <th></th>\n",
              "      <th></th>\n",
              "      <th></th>\n",
              "      <th></th>\n",
              "      <th></th>\n",
              "      <th></th>\n",
              "      <th></th>\n",
              "      <th></th>\n",
              "      <th></th>\n",
              "      <th></th>\n",
              "      <th></th>\n",
              "      <th></th>\n",
              "      <th></th>\n",
              "      <th></th>\n",
              "      <th></th>\n",
              "      <th></th>\n",
              "      <th></th>\n",
              "      <th></th>\n",
              "      <th></th>\n",
              "      <th></th>\n",
              "      <th></th>\n",
              "      <th></th>\n",
              "      <th></th>\n",
              "      <th></th>\n",
              "      <th></th>\n",
              "      <th></th>\n",
              "      <th></th>\n",
              "      <th></th>\n",
              "      <th></th>\n",
              "    </tr>\n",
              "  </thead>\n",
              "  <tbody>\n",
              "    <tr>\n",
              "      <th>Aaron Wan-Bissaka</th>\n",
              "      <td>0.000000</td>\n",
              "      <td>0.000000</td>\n",
              "      <td>0</td>\n",
              "      <td>1</td>\n",
              "      <td>1</td>\n",
              "      <td>0</td>\n",
              "      <td>0</td>\n",
              "      <td>0</td>\n",
              "      <td>0.921053</td>\n",
              "      <td>0.000000</td>\n",
              "      <td>0.184211</td>\n",
              "      <td>0.000000</td>\n",
              "      <td>0.000000</td>\n",
              "      <td>0.000000</td>\n",
              "      <td>0.720</td>\n",
              "      <td>0.810</td>\n",
              "      <td>0.446755</td>\n",
              "      <td>0.705</td>\n",
              "      <td>0.855</td>\n",
              "      <td>0.870</td>\n",
              "      <td>0.368421</td>\n",
              "      <td>0.184211</td>\n",
              "      <td>0.447368</td>\n",
              "      <td>1.342105</td>\n",
              "      <td>1.394737</td>\n",
              "      <td>1.289474</td>\n",
              "      <td>0.660</td>\n",
              "      <td>0.870</td>\n",
              "      <td>0.289474</td>\n",
              "      <td>0.289474</td>\n",
              "      <td>0.421053</td>\n",
              "      <td>1.184211</td>\n",
              "      <td>1.447368</td>\n",
              "      <td>1.157895</td>\n",
              "      <td>0.6600</td>\n",
              "      <td>0.870</td>\n",
              "      <td>0.315789</td>\n",
              "      <td>0.131579</td>\n",
              "      <td>0.552632</td>\n",
              "      <td>1.315789</td>\n",
              "      <td>1.657895</td>\n",
              "      <td>1.078947</td>\n",
              "      <td>0.6600</td>\n",
              "      <td>0.870</td>\n",
              "    </tr>\n",
              "    <tr>\n",
              "      <th>Abdu Conté</th>\n",
              "      <td>0.000000</td>\n",
              "      <td>0.000000</td>\n",
              "      <td>0</td>\n",
              "      <td>1</td>\n",
              "      <td>0</td>\n",
              "      <td>0</td>\n",
              "      <td>0</td>\n",
              "      <td>0</td>\n",
              "      <td>0.000000</td>\n",
              "      <td>0.000000</td>\n",
              "      <td>0.631579</td>\n",
              "      <td>0.000000</td>\n",
              "      <td>0.166667</td>\n",
              "      <td>0.000000</td>\n",
              "      <td>0.575</td>\n",
              "      <td>0.640</td>\n",
              "      <td>0.440349</td>\n",
              "      <td>0.800</td>\n",
              "      <td>0.555</td>\n",
              "      <td>0.760</td>\n",
              "      <td>0.676471</td>\n",
              "      <td>0.147059</td>\n",
              "      <td>0.176471</td>\n",
              "      <td>2.117647</td>\n",
              "      <td>0.970588</td>\n",
              "      <td>2.176471</td>\n",
              "      <td>0.700</td>\n",
              "      <td>0.760</td>\n",
              "      <td>0.289474</td>\n",
              "      <td>0.236842</td>\n",
              "      <td>0.473684</td>\n",
              "      <td>1.210526</td>\n",
              "      <td>1.710526</td>\n",
              "      <td>1.105263</td>\n",
              "      <td>0.0001</td>\n",
              "      <td>0.505</td>\n",
              "      <td>0.357143</td>\n",
              "      <td>0.238095</td>\n",
              "      <td>0.404762</td>\n",
              "      <td>1.523810</td>\n",
              "      <td>1.476190</td>\n",
              "      <td>1.309524</td>\n",
              "      <td>0.0001</td>\n",
              "      <td>0.505</td>\n",
              "    </tr>\n",
              "    <tr>\n",
              "      <th>Alisson</th>\n",
              "      <td>0.164706</td>\n",
              "      <td>0.000000</td>\n",
              "      <td>1</td>\n",
              "      <td>0</td>\n",
              "      <td>0</td>\n",
              "      <td>0</td>\n",
              "      <td>0</td>\n",
              "      <td>0</td>\n",
              "      <td>1.000000</td>\n",
              "      <td>0.000000</td>\n",
              "      <td>0.973684</td>\n",
              "      <td>0.000000</td>\n",
              "      <td>0.000000</td>\n",
              "      <td>0.000000</td>\n",
              "      <td>0.870</td>\n",
              "      <td>0.900</td>\n",
              "      <td>0.548870</td>\n",
              "      <td>0.915</td>\n",
              "      <td>0.900</td>\n",
              "      <td>0.870</td>\n",
              "      <td>0.789474</td>\n",
              "      <td>0.184211</td>\n",
              "      <td>0.026316</td>\n",
              "      <td>2.342105</td>\n",
              "      <td>0.578947</td>\n",
              "      <td>2.552632</td>\n",
              "      <td>0.900</td>\n",
              "      <td>0.870</td>\n",
              "      <td>0.605263</td>\n",
              "      <td>0.210526</td>\n",
              "      <td>0.184211</td>\n",
              "      <td>1.605263</td>\n",
              "      <td>0.736842</td>\n",
              "      <td>2.026316</td>\n",
              "      <td>0.8100</td>\n",
              "      <td>0.845</td>\n",
              "      <td>0.736842</td>\n",
              "      <td>0.078947</td>\n",
              "      <td>0.184211</td>\n",
              "      <td>2.368421</td>\n",
              "      <td>1.000000</td>\n",
              "      <td>2.289474</td>\n",
              "      <td>0.8100</td>\n",
              "      <td>0.845</td>\n",
              "    </tr>\n",
              "    <tr>\n",
              "      <th>Andrew Robertson</th>\n",
              "      <td>0.117647</td>\n",
              "      <td>0.100000</td>\n",
              "      <td>0</td>\n",
              "      <td>1</td>\n",
              "      <td>1</td>\n",
              "      <td>0</td>\n",
              "      <td>0</td>\n",
              "      <td>0</td>\n",
              "      <td>0.947368</td>\n",
              "      <td>0.000000</td>\n",
              "      <td>0.578947</td>\n",
              "      <td>0.026316</td>\n",
              "      <td>0.868421</td>\n",
              "      <td>0.026316</td>\n",
              "      <td>0.785</td>\n",
              "      <td>0.825</td>\n",
              "      <td>0.520369</td>\n",
              "      <td>0.550</td>\n",
              "      <td>0.900</td>\n",
              "      <td>0.870</td>\n",
              "      <td>0.789474</td>\n",
              "      <td>0.184211</td>\n",
              "      <td>0.026316</td>\n",
              "      <td>2.342105</td>\n",
              "      <td>0.578947</td>\n",
              "      <td>2.552632</td>\n",
              "      <td>0.900</td>\n",
              "      <td>0.870</td>\n",
              "      <td>0.552632</td>\n",
              "      <td>0.315789</td>\n",
              "      <td>0.131579</td>\n",
              "      <td>2.210526</td>\n",
              "      <td>1.000000</td>\n",
              "      <td>1.973684</td>\n",
              "      <td>0.9000</td>\n",
              "      <td>0.870</td>\n",
              "      <td>0.236842</td>\n",
              "      <td>0.184211</td>\n",
              "      <td>0.578947</td>\n",
              "      <td>0.973684</td>\n",
              "      <td>2.105263</td>\n",
              "      <td>0.894737</td>\n",
              "      <td>0.5700</td>\n",
              "      <td>0.870</td>\n",
              "    </tr>\n",
              "    <tr>\n",
              "      <th>Antoine Griezmann</th>\n",
              "      <td>0.239216</td>\n",
              "      <td>0.393443</td>\n",
              "      <td>0</td>\n",
              "      <td>0</td>\n",
              "      <td>0</td>\n",
              "      <td>0</td>\n",
              "      <td>1</td>\n",
              "      <td>1</td>\n",
              "      <td>0.973684</td>\n",
              "      <td>0.394737</td>\n",
              "      <td>0.842105</td>\n",
              "      <td>0.500000</td>\n",
              "      <td>0.947368</td>\n",
              "      <td>0.421053</td>\n",
              "      <td>0.900</td>\n",
              "      <td>0.925</td>\n",
              "      <td>0.579325</td>\n",
              "      <td>0.875</td>\n",
              "      <td>0.920</td>\n",
              "      <td>0.915</td>\n",
              "      <td>0.578947</td>\n",
              "      <td>0.263158</td>\n",
              "      <td>0.157895</td>\n",
              "      <td>1.447368</td>\n",
              "      <td>0.763158</td>\n",
              "      <td>2.000000</td>\n",
              "      <td>0.875</td>\n",
              "      <td>0.915</td>\n",
              "      <td>0.605263</td>\n",
              "      <td>0.263158</td>\n",
              "      <td>0.131579</td>\n",
              "      <td>1.526316</td>\n",
              "      <td>0.578947</td>\n",
              "      <td>2.078947</td>\n",
              "      <td>0.8750</td>\n",
              "      <td>0.915</td>\n",
              "      <td>0.605263</td>\n",
              "      <td>0.236842</td>\n",
              "      <td>0.157895</td>\n",
              "      <td>1.842105</td>\n",
              "      <td>0.710526</td>\n",
              "      <td>2.052632</td>\n",
              "      <td>0.8750</td>\n",
              "      <td>0.915</td>\n",
              "    </tr>\n",
              "  </tbody>\n",
              "</table>\n",
              "</div>"
            ],
            "text/plain": [
              "                   Inter. Apps  Inter. Goals  ...  L3Y Club Rep  L3Y Competition Rep\n",
              "Name                                          ...                                   \n",
              "Aaron Wan-Bissaka     0.000000      0.000000  ...        0.6600                0.870\n",
              "Abdu Conté            0.000000      0.000000  ...        0.0001                0.505\n",
              "Alisson               0.164706      0.000000  ...        0.8100                0.845\n",
              "Andrew Robertson      0.117647      0.100000  ...        0.5700                0.870\n",
              "Antoine Griezmann     0.239216      0.393443  ...        0.8750                0.915\n",
              "\n",
              "[5 rows x 44 columns]"
            ]
          },
          "metadata": {
            "tags": []
          },
          "execution_count": 5
        }
      ]
    },
    {
      "cell_type": "code",
      "metadata": {
        "id": "l-W7m8wt1k2g",
        "colab_type": "code",
        "colab": {}
      },
      "source": [
        "df_data = df_data.fillna(0)"
      ],
      "execution_count": 0,
      "outputs": []
    },
    {
      "cell_type": "code",
      "metadata": {
        "id": "obLTRUkQ1wq2",
        "colab_type": "code",
        "colab": {}
      },
      "source": [
        "# from sklearn.preprocessing import StandardScaler\n",
        "from sklearn.model_selection import train_test_split\n",
        "\n",
        "# scaler = StandardScaler()\n",
        "# scaler.fit(df_data)\n",
        "# df_data_std = pd.DataFrame(scaler.transform(df_data), columns=df_data.columns, index=df_data.index)"
      ],
      "execution_count": 0,
      "outputs": []
    },
    {
      "cell_type": "code",
      "metadata": {
        "id": "h1yxvYza44dM",
        "colab_type": "code",
        "colab": {}
      },
      "source": [
        "X, y = get_X_and_y(df_data)\n",
        "\n",
        "X_train, X_test, y_train, y_test = train_test_split(X, y, random_state=42)"
      ],
      "execution_count": 0,
      "outputs": []
    },
    {
      "cell_type": "code",
      "metadata": {
        "id": "KnsGrmQR46WE",
        "colab_type": "code",
        "colab": {}
      },
      "source": [
        "from sklearn.pipeline import Pipeline\n",
        "from sklearn.decomposition import PCA\n",
        "from sklearn import feature_selection\n",
        "from sklearn.svm import SVR\n",
        "from sklearn.model_selection import GridSearchCV\n",
        "from sklearn.model_selection import cross_val_score\n",
        "\n",
        "pipe = Pipeline([('pca', PCA(random_state=2020)), ('svr', SVR(gamma='scale'))])"
      ],
      "execution_count": 0,
      "outputs": []
    },
    {
      "cell_type": "code",
      "metadata": {
        "id": "3BSWF8ON49Z9",
        "colab_type": "code",
        "outputId": "91d6d26f-1f15-4b3b-abda-d9b1c03a0854",
        "colab": {
          "base_uri": "https://localhost:8080/",
          "height": 399
        }
      },
      "source": [
        "param_grid = {\n",
        "  'svr__kernel': ['linear','rbf', 'sigmoid'],\n",
        "  'pca__n_components': [20, 30, 35],\n",
        "  'svr__C': [0.01, 0.05, 0.1, 0.5, 1, 5, 10, 50],\n",
        "  'svr__epsilon': [0.005 ,0.01, 0.05, 0.1, 0.5, 1, 10],\n",
        "}\n",
        "\n",
        "grid = GridSearchCV(pipe, param_grid=param_grid, cv=5)\n",
        "grid.fit(X_train, y_train)"
      ],
      "execution_count": 0,
      "outputs": [
        {
          "output_type": "execute_result",
          "data": {
            "text/plain": [
              "GridSearchCV(cv=5, error_score=nan,\n",
              "             estimator=Pipeline(memory=None,\n",
              "                                steps=[('pca',\n",
              "                                        PCA(copy=True, iterated_power='auto',\n",
              "                                            n_components=None,\n",
              "                                            random_state=2020,\n",
              "                                            svd_solver='auto', tol=0.0,\n",
              "                                            whiten=False)),\n",
              "                                       ('svr',\n",
              "                                        SVR(C=1.0, cache_size=200, coef0=0.0,\n",
              "                                            degree=3, epsilon=0.1,\n",
              "                                            gamma='scale', kernel='rbf',\n",
              "                                            max_iter=-1, shrinking=True,\n",
              "                                            tol=0.001, verbose=False))],\n",
              "                                verbose=False),\n",
              "             iid='deprecated', n_jobs=None,\n",
              "             param_grid={'pca__n_components': [20, 30, 35],\n",
              "                         'svr__C': [0.01, 0.05, 0.1, 0.5, 1, 5, 10, 50],\n",
              "                         'svr__epsilon': [0.005, 0.01, 0.05, 0.1, 0.5, 1, 10],\n",
              "                         'svr__kernel': ['linear', 'rbf', 'sigmoid']},\n",
              "             pre_dispatch='2*n_jobs', refit=True, return_train_score=False,\n",
              "             scoring=None, verbose=0)"
            ]
          },
          "metadata": {
            "tags": []
          },
          "execution_count": 10
        }
      ]
    },
    {
      "cell_type": "code",
      "metadata": {
        "id": "MeAAkkAX4_r1",
        "colab_type": "code",
        "outputId": "aa204959-0391-4acc-e0a8-6223989bc2e7",
        "colab": {
          "base_uri": "https://localhost:8080/",
          "height": 86
        }
      },
      "source": [
        "print(\"\\nGrid-Search\")\n",
        "print(\"Best parameters:\", grid.best_params_)\n",
        "print(\"Best cross-validation score: {:.3f}\".format(grid.best_score_))"
      ],
      "execution_count": 0,
      "outputs": [
        {
          "output_type": "stream",
          "text": [
            "\n",
            "Grid-Search\n",
            "Best parameters: {'pca__n_components': 20, 'svr__C': 50, 'svr__epsilon': 0.01, 'svr__kernel': 'linear'}\n",
            "Best cross-validation score: 0.895\n"
          ],
          "name": "stdout"
        }
      ]
    },
    {
      "cell_type": "code",
      "metadata": {
        "id": "kTYMbvB55EYd",
        "colab_type": "code",
        "outputId": "a300c102-865f-4167-9d4b-a17388575729",
        "colab": {
          "base_uri": "https://localhost:8080/",
          "height": 34
        }
      },
      "source": [
        "scores = grid.score(X_test, y_test)\n",
        "print(\"Test set score: {:.2f}\".format(scores))"
      ],
      "execution_count": 0,
      "outputs": [
        {
          "output_type": "stream",
          "text": [
            "Test set score: 0.89\n"
          ],
          "name": "stdout"
        }
      ]
    },
    {
      "cell_type": "code",
      "metadata": {
        "id": "eRI3GFMI5dT1",
        "colab_type": "code",
        "colab": {}
      },
      "source": [
        "predict_result = grid.predict(X_test)"
      ],
      "execution_count": 0,
      "outputs": []
    },
    {
      "cell_type": "code",
      "metadata": {
        "id": "_skgBGU96Zw0",
        "colab_type": "code",
        "outputId": "d61ef3f9-1ab3-4e02-d4c2-92370068088a",
        "colab": {
          "base_uri": "https://localhost:8080/",
          "height": 799
        }
      },
      "source": [
        "df_predict = X_test[:].copy()\n",
        "df_predict['predict CA'] = predict_result * 200\n",
        "df_predict['predict CA']"
      ],
      "execution_count": 0,
      "outputs": [
        {
          "output_type": "execute_result",
          "data": {
            "text/plain": [
              "Name\n",
              "Ryan Haynes                92.257990\n",
              "James Collins             113.651794\n",
              "Tom Eaves                 107.558391\n",
              "Marcos Rojo               152.897958\n",
              "Rhys Evitt-Healey          88.648206\n",
              "Adam Roscrow               97.979145\n",
              "Trent Alexander-Arnold    155.397460\n",
              "John Marquis              110.075015\n",
              "David Marshall            129.337013\n",
              "Herbie Kane               133.901547\n",
              "Steven May                110.389458\n",
              "Aaron Ramsdale            120.926448\n",
              "Jota                      104.881446\n",
              "Yapp Hung Fai              80.660022\n",
              "John Marquis              110.075015\n",
              "Daniel James              130.783388\n",
              "Mason Bennett             117.446026\n",
              "Fábio Silva               127.192468\n",
              "Ryan Fredericks           128.340031\n",
              "John Marquis              110.075015\n",
              "Harry Maguire             142.761612\n",
              "Hélio                      78.116641\n",
              "Lukasz Fabianski          147.498742\n",
              "Kenny Steppe              139.552942\n",
              "Liam Shephard             103.757988\n",
              "Diego Eli                  80.770178\n",
              "David De Gea              163.840363\n",
              "Bartlomiej Dragowski      128.112265\n",
              "Dean Marney               111.311411\n",
              "Claudio Bravo             156.806897\n",
              "John Marquis              110.075015\n",
              "Chan Siu Ki                57.551940\n",
              "John Stones               154.686943\n",
              "Chris Kane                114.561185\n",
              "Samir Handanovic          161.449418\n",
              "Safirul Sulaiman           55.136320\n",
              "Lukasz Fabianski          147.498742\n",
              "Kevin De Bruyne           158.879756\n",
              "Sergio Romero             149.041536\n",
              "Nicolás Otamendi          158.738345\n",
              "Kylian Mbappé             167.314158\n",
              "Alisson                   161.605696\n",
              "Lau Tak Yan                34.187305\n",
              "Name: predict CA, dtype: float64"
            ]
          },
          "metadata": {
            "tags": []
          },
          "execution_count": 14
        }
      ]
    },
    {
      "cell_type": "code",
      "metadata": {
        "id": "9gBE5Xo593ko",
        "colab_type": "code",
        "outputId": "05090304-f96f-45fa-ff71-78ea60b524ff",
        "colab": {
          "base_uri": "https://localhost:8080/",
          "height": 89
        }
      },
      "source": [
        "from sklearn.externals import joblib\n",
        "\n",
        "model_filename = 'model.joblib'\n",
        "joblib.dump(grid, model_filename)"
      ],
      "execution_count": 0,
      "outputs": [
        {
          "output_type": "stream",
          "text": [
            "/usr/local/lib/python3.6/dist-packages/sklearn/externals/joblib/__init__.py:15: FutureWarning: sklearn.externals.joblib is deprecated in 0.21 and will be removed in 0.23. Please import this functionality directly from joblib, which can be installed with: pip install joblib. If this warning is raised when loading pickled models, you may need to re-serialize those models with scikit-learn 0.21+.\n",
            "  warnings.warn(msg, category=FutureWarning)\n"
          ],
          "name": "stderr"
        },
        {
          "output_type": "execute_result",
          "data": {
            "text/plain": [
              "['model.joblib']"
            ]
          },
          "metadata": {
            "tags": []
          },
          "execution_count": 15
        }
      ]
    },
    {
      "cell_type": "code",
      "metadata": {
        "id": "GHiH4tFC_nmA",
        "colab_type": "code",
        "colab": {}
      },
      "source": [
        ""
      ],
      "execution_count": 0,
      "outputs": []
    }
  ]
}